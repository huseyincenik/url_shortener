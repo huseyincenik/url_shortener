{
 "cells": [
  {
   "cell_type": "code",
   "execution_count": null,
   "metadata": {},
   "outputs": [],
   "source": [
    "# Let's import the pyshorteners library\n",
    "! pip install pyshorteners"
   ]
  },
  {
   "cell_type": "code",
   "execution_count": 2,
   "metadata": {},
   "outputs": [
    {
     "name": "stdout",
     "output_type": "stream",
     "text": [
      "A shortened version of www.linkedin.com/in/huseyincenik you typed: - https://tinyurl.com/2m4htg73\n"
     ]
    }
   ],
   "source": [
    "import pyshorteners\n",
    "url = input(\"Enter url: \\n\") # Get url from user\n",
    "\n",
    "print(f\"A shortened version of {url} you typed: -\", pyshorteners.Shortener().tinyurl.short(url))"
   ]
  }
 ],
 "metadata": {
  "kernelspec": {
   "display_name": "Python 3",
   "language": "python",
   "name": "python3"
  },
  "language_info": {
   "codemirror_mode": {
    "name": "ipython",
    "version": 3
   },
   "file_extension": ".py",
   "mimetype": "text/x-python",
   "name": "python",
   "nbconvert_exporter": "python",
   "pygments_lexer": "ipython3",
   "version": "3.11.2"
  },
  "orig_nbformat": 4
 },
 "nbformat": 4,
 "nbformat_minor": 2
}
